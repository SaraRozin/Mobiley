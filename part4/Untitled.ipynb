{
 "cells": [
  {
   "cell_type": "code",
   "execution_count": 1,
   "id": "838763f8",
   "metadata": {
    "scrolled": true
   },
   "outputs": [
    {
     "ename": "ModuleNotFoundError",
     "evalue": "No module named 'part1'",
     "output_type": "error",
     "traceback": [
      "\u001b[1;31m---------------------------------------------------------------------------\u001b[0m",
      "\u001b[1;31mModuleNotFoundError\u001b[0m                       Traceback (most recent call last)",
      "\u001b[1;32m~\\AppData\\Local\\Temp/ipykernel_9356/2281170521.py\u001b[0m in \u001b[0;36m<module>\u001b[1;34m\u001b[0m\n\u001b[1;32m----> 1\u001b[1;33m \u001b[1;32mfrom\u001b[0m \u001b[0mpart1\u001b[0m\u001b[1;33m.\u001b[0m\u001b[0mpart1_api\u001b[0m \u001b[1;32mimport\u001b[0m \u001b[0mfind_tfl_lights\u001b[0m\u001b[1;33m\u001b[0m\u001b[1;33m\u001b[0m\u001b[0m\n\u001b[0m\u001b[0;32m      2\u001b[0m \u001b[1;32mfrom\u001b[0m \u001b[0mpart3\u001b[0m\u001b[1;33m.\u001b[0m\u001b[0mSFM_standAlone\u001b[0m \u001b[1;32mimport\u001b[0m \u001b[1;33m*\u001b[0m\u001b[1;33m\u001b[0m\u001b[1;33m\u001b[0m\u001b[0m\n\u001b[0;32m      3\u001b[0m \u001b[1;32mimport\u001b[0m \u001b[0mnumpy\u001b[0m \u001b[1;32mas\u001b[0m \u001b[0mnp\u001b[0m\u001b[1;33m\u001b[0m\u001b[1;33m\u001b[0m\u001b[0m\n\u001b[0;32m      4\u001b[0m \u001b[1;32mfrom\u001b[0m \u001b[0mPIL\u001b[0m \u001b[1;32mimport\u001b[0m \u001b[0mImage\u001b[0m\u001b[1;33m\u001b[0m\u001b[1;33m\u001b[0m\u001b[0m\n\u001b[0;32m      5\u001b[0m \u001b[1;31m# import tensorflow as tf\u001b[0m\u001b[1;33m\u001b[0m\u001b[1;33m\u001b[0m\u001b[1;33m\u001b[0m\u001b[0m\n",
      "\u001b[1;31mModuleNotFoundError\u001b[0m: No module named 'part1'"
     ]
    }
   ],
   "source": []
  },
  {
   "cell_type": "code",
   "execution_count": null,
   "id": "4ff50b94",
   "metadata": {},
   "outputs": [],
   "source": []
  },
  {
   "cell_type": "code",
   "execution_count": null,
   "id": "16da0dc7",
   "metadata": {},
   "outputs": [],
   "source": [
    "from part1.part1_api import find_tfl_lights\n",
    "from part3.SFM_standAlone import *\n",
    "import numpy as np\n",
    "from PIL import Image\n",
    "# import tensorflow as tf\n",
    "from tensorflow.keras.models import load_model\n",
    "import pickle\n",
    "\n",
    "\n",
    "class TFL_Man:\n",
    "    def __init__(self, pkl_path='../part4/data/pkl_files/dusseldorf_000049.pkl'):\n",
    "        with open(pkl_path, 'rb') as pklfile:\n",
    "            data = pickle.load(pklfile, encoding='latin1')\n",
    "        self.data = data\n",
    "        self.focal = data['flx']\n",
    "        self.pp = data['principle_point']\n",
    "        # self.loaded_model = tf.lite.TFLiteConverter.from_keras_model(\"../part2/model.h5\")\n",
    "        self.loaded_model = load_model(\"../part2/model.h5\")\n",
    "\n",
    "    def filter_points(self, image, suspect_x, suspect_y):\n",
    "        tfl_points = []\n",
    "        for i in range(len(suspect_x)):\n",
    "            x, y = suspect_x[i], suspect_y[i]\n",
    "            l_predictions = self.loaded_model.predict(self.crop_by_x_y(image, x, y))\n",
    "            if l_predictions > 0.5:\n",
    "                tfl_points += [(x, y)]\n",
    "        return tfl_points\n",
    "\n",
    "\n",
    "    def get_tfl_points(self, image_path, frame_index):\n",
    "        image = np.array(Image.open(image_path))\n",
    "        x_red, y_red, x_green, y_green = find_tfl_lights(image, some_threshold=42)\n",
    "        suspect_x, suspect_y = x_red + x_green, y_red + y_green\n",
    "        return self.filter_points(image, suspect_x, suspect_y)\n",
    "\n",
    "    def crop_by_x_y(self, image, x, y):\n",
    "        w, h = image.size[0] - 1, image.size[1] - 1\n",
    "        left, top, right, bottom = max(0, x - 40), max(y - 40, 0), min(w, x + 41), min(y + 41, h)\n",
    "        if x - 40 < 0:\n",
    "            left, right = 0, 81\n",
    "        if y - 40 < 0:\n",
    "            top, bottom = 0, 81\n",
    "        if x + 41 > w:\n",
    "            left, right = w - 81, w\n",
    "        if y + 41 > h:\n",
    "            top, bottom = h - 81, h\n",
    "        crop_im = image.crop((left, top, right, bottom))\n",
    "        return np.asarray(crop_im, dtype=np.uint8)\n",
    "\n",
    "    def get_TFL_distances(self, prev_frame_id, prev_img_path, curr_img_path):\n",
    "        curr_frame_id = prev_frame_id + 1\n",
    "        prev_container = FrameContainer(prev_img_path)\n",
    "        curr_container = FrameContainer(curr_img_path)\n",
    "        prev_container.traffic_light = np.array(self.get_tfl_points(prev_img_path, prev_frame_id))\n",
    "        curr_container.traffic_light = np.array(self.get_tfl_points(curr_img_path, curr_frame_id))\n",
    "        EM = np.eye(4)\n",
    "        for i in range(prev_frame_id, curr_frame_id):\n",
    "            EM = np.dot(self.data['egomotion_' + str(i) + '-' + str(i + 1)], EM)\n",
    "        curr_container.EM = EM\n",
    "        curr_container = SFM.calc_TFL_dist(prev_container, curr_container, self.focal, self.pp)\n",
    "        return prev_container, curr_container\n",
    "\n"
   ]
  },
  {
   "cell_type": "code",
   "execution_count": null,
   "id": "95364834",
   "metadata": {},
   "outputs": [],
   "source": []
  }
 ],
 "metadata": {
  "kernelspec": {
   "display_name": "Python 3 (ipykernel)",
   "language": "python",
   "name": "python3"
  },
  "language_info": {
   "codemirror_mode": {
    "name": "ipython",
    "version": 3
   },
   "file_extension": ".py",
   "mimetype": "text/x-python",
   "name": "python",
   "nbconvert_exporter": "python",
   "pygments_lexer": "ipython3",
   "version": "3.9.5"
  }
 },
 "nbformat": 4,
 "nbformat_minor": 5
}
